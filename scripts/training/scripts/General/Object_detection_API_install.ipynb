{
 "cells": [
  {
   "cell_type": "code",
   "execution_count": null,
   "metadata": {},
   "outputs": [],
   "source": [
    "from paths_creation import paths, parameters"
   ]
  },
  {
   "cell_type": "code",
   "execution_count": null,
   "metadata": {},
   "outputs": [],
   "source": [
    "!pip install opencv-python-headless==4.1.2.30"
   ]
  },
  {
   "cell_type": "code",
   "execution_count": null,
   "metadata": {},
   "outputs": [],
   "source": [
    "!pip install lvis\n",
    "!git clone https://github.com/tensorflow/models {paths['APIMODEL_PATH']}\n",
    "!cd {paths['APIMODEL_PATH']+'/research/ '} && protoc object_detection/protos/*.proto --python_out=."
   ]
  },
  {
   "cell_type": "code",
   "execution_count": null,
   "metadata": {},
   "outputs": [],
   "source": [
    "%%writefile {paths['APIMODEL_PATH']+'/research/setup.py'}\n",
    "\n",
    "import os\n",
    "from setuptools import find_packages\n",
    "from setuptools import setup\n",
    "\n",
    "REQUIRED_PACKAGES = [\n",
    "    'tf-models-official==2.7.0',\n",
    "    'tensorflow_io'\n",
    "]\n",
    "\n",
    "setup(\n",
    "    name='object_detection',\n",
    "    version='0.1',\n",
    "    install_requires=REQUIRED_PACKAGES,\n",
    "    include_package_data=True,\n",
    "    packages=(\n",
    "        [p for p in find_packages() if p.startswith('object_detection')] +\n",
    "        find_packages(where=os.path.join('.', 'slim'))),\n",
    "    package_dir={\n",
    "        'datasets': os.path.join('slim', 'datasets'),\n",
    "        'nets': os.path.join('slim', 'nets'),\n",
    "        'preprocessing': os.path.join('slim', 'preprocessing'),\n",
    "        'deployment': os.path.join('slim', 'deployment'),\n",
    "        'scripts': os.path.join('slim', 'scripts'),\n",
    "    },\n",
    "    description='Tensorflow Object Detection Library',\n",
    "    python_requires='>3.6',\n",
    ")"
   ]
  },
  {
   "cell_type": "code",
   "execution_count": null,
   "metadata": {},
   "outputs": [],
   "source": [
    "!python -m pip install {paths['APIMODEL_PATH']+'/research'}"
   ]
  },
  {
   "cell_type": "code",
   "execution_count": null,
   "metadata": {},
   "outputs": [],
   "source": [
    "!wget {parameters['PRETRAINED_MODEL_URL']}\n",
    "!mv {parameters['PRETRAINED_MODEL_NAME']+'.tar.gz'} {paths['PRETRAINED_MODEL_PATH']}\n",
    "!cd {paths['PRETRAINED_MODEL_PATH']} && tar -zxvf {parameters['PRETRAINED_MODEL_NAME']+'.tar.gz'}"
   ]
  }
 ],
 "metadata": {
  "language_info": {
   "name": "python"
  },
  "orig_nbformat": 4
 },
 "nbformat": 4,
 "nbformat_minor": 2
}
