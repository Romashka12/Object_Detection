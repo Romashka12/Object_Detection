{
 "cells": [
  {
   "cell_type": "code",
   "execution_count": null,
   "metadata": {},
   "outputs": [],
   "source": [
    "from paths_creation import paths, parameters"
   ]
  },
  {
   "cell_type": "code",
   "execution_count": null,
   "metadata": {},
   "outputs": [],
   "source": [
    "!unzip {'\"'+parameters[\"INITIAL_DATA_DIR\"]+'\"'} -d {paths['RAW_DATA_PATH']}"
   ]
  },
  {
   "cell_type": "code",
   "execution_count": null,
   "metadata": {},
   "outputs": [],
   "source": [
    "!python {paths['SCRIPTS_PATH']+'/TF_records_conversion.py'} {paths['RAW_DATA_PATH']} {paths['IMAGE_PATH']}"
   ]
  },
  {
   "cell_type": "code",
   "execution_count": null,
   "metadata": {},
   "outputs": [],
   "source": [
    "!python {paths['SCRIPTS_PATH']+'/labels_creation.py'} {paths['ANNOTATION_PATH']}"
   ]
  }
 ],
 "metadata": {
  "language_info": {
   "name": "python"
  },
  "orig_nbformat": 4
 },
 "nbformat": 4,
 "nbformat_minor": 2
}
